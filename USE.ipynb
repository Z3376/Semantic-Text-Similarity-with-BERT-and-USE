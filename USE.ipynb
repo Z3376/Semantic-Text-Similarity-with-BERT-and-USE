{
  "nbformat": 4,
  "nbformat_minor": 0,
  "metadata": {
    "colab": {
      "name": "USE.ipynb",
      "version": "0.3.2",
      "provenance": [],
      "private_outputs": true,
      "collapsed_sections": [
        "9xWriXdxUtaw",
        "NHfOs77CqfZY"
      ],
      "include_colab_link": true
    },
    "kernelspec": {
      "name": "python3",
      "display_name": "Python 3"
    },
    "accelerator": "GPU"
  },
  "cells": [
    {
      "cell_type": "markdown",
      "metadata": {
        "id": "view-in-github",
        "colab_type": "text"
      },
      "source": [
        "<a href=\"https://colab.research.google.com/github/Z3376/Semantic-Text-Similarity-with-BERT-and-USE/blob/master/USE.ipynb\" target=\"_parent\"><img src=\"https://colab.research.google.com/assets/colab-badge.svg\" alt=\"Open In Colab\"/></a>"
      ]
    },
    {
      "cell_type": "code",
      "metadata": {
        "id": "HnEptL8smf4w",
        "colab_type": "code",
        "colab": {}
      },
      "source": [
        "import numpy as np\n",
        "import pandas as pd\n",
        "import tensorflow as tf\n",
        "import tensorflow_hub as hub\n",
        "import keras\n",
        "import matplotlib.pyplot as plt\n",
        "from sklearn.metrics import confusion_matrix\n",
        "from sklearn.metrics import log_loss\n",
        "from time import time"
      ],
      "execution_count": 0,
      "outputs": []
    },
    {
      "cell_type": "markdown",
      "metadata": {
        "id": "9xWriXdxUtaw",
        "colab_type": "text"
      },
      "source": [
        "# Data"
      ]
    },
    {
      "cell_type": "code",
      "metadata": {
        "id": "SkDd5Kk2ML8B",
        "colab_type": "code",
        "colab": {}
      },
      "source": [
        "!wget \"https://storage.googleapis.com/kaggle-competitions-data/kaggle/6277/323734/all.zip?GoogleAccessId=web-data@kaggle-161607.iam.gserviceaccount.com&Expires=1564850519&Signature=ZOmgoiCiwnco7UWfkhGupcrP2HYfacbojgKaN5orkSW%2BJ%2BnEi5vgtmEqdFZ3o5KIkIIotnFSntXvK0Ks21oIx1OSOhjDYrhh3FxUD34nbW6KohudGln%2B63QXtFoQmuXIJlRn4xdo9f3y0Jwx7Y13I0b6wzXt4fTKMz8s83DSo%2FXSwtCLS4nZhd1nPDT0TcFkjuxl%2B60CBwS0jSSYPVXbFzJG30qDqyvhWKeKGuOg88LrXA%2BTQNIzc1bYDBRIPWBRffhHMpHYIRdfDGtAZb5pq9w0qn4Fx8XG9M1zI1pgfwH7u8v30uYnR0lrt16%2BWaURoKGJJ9ex0qLnoF9Y8HBWMw%3D%3D&response-content-disposition=attachment%3B+filename%3Dquora-question-pairs.zip\""
      ],
      "execution_count": 0,
      "outputs": []
    },
    {
      "cell_type": "code",
      "metadata": {
        "id": "ad4LbKqcv4xH",
        "colab_type": "code",
        "colab": {}
      },
      "source": [
        "!unzip \"all.zip?GoogleAccessId=web-data@kaggle-161607.iam.gserviceaccount.com&Expires=1564850519&Signature=ZOmgoiCiwnco7UWfkhGupcrP2HYfacbojgKaN5orkSW+J+nEi5vgtmEqdFZ3o5KIkIIotnFSntXvK0Ks21oIx1OSOhjDYrhh3FxUD34nbW6KohudGln+63QXtFoQmuXIJlRn4xdo9\"\n",
        "!rm -f \"all.zip?GoogleAccessId=web-data@kaggle-161607.iam.gserviceaccount.com&Expires=1564850519&Signature=ZOmgoiCiwnco7UWfkhGupcrP2HYfacbojgKaN5orkSW+J+nEi5vgtmEqdFZ3o5KIkIIotnFSntXvK0Ks21oIx1OSOhjDYrhh3FxUD34nbW6KohudGln+63QXtFoQmuXIJlRn4xdo9\""
      ],
      "execution_count": 0,
      "outputs": []
    },
    {
      "cell_type": "markdown",
      "metadata": {
        "id": "-ffIIVrkU1UR",
        "colab_type": "text"
      },
      "source": [
        "# TF_Hub Module"
      ]
    },
    {
      "cell_type": "code",
      "metadata": {
        "id": "mnKH7u3-ibhD",
        "colab_type": "code",
        "colab": {}
      },
      "source": [
        "module_url = \"https://tfhub.dev/google/universal-sentence-encoder-large/3\"\n",
        "embed = hub.Module(module_url)"
      ],
      "execution_count": 0,
      "outputs": []
    },
    {
      "cell_type": "code",
      "metadata": {
        "id": "YhO4Z2K0TxK3",
        "colab_type": "code",
        "colab": {}
      },
      "source": [
        "# module_url = \"https://tfhub.dev/google/universal-sentence-encoder-lite/2\"\n",
        "# embed_lite = hub.Module(module_url)\n",
        "# with tf.Session as sess:\n",
        "#     spm_path = sess.run(module(signature=\"spm_path\"))\n",
        "# sp = spm.SentencePieceProcessor()\n",
        "# sp.Load(spm_path)"
      ],
      "execution_count": 0,
      "outputs": []
    },
    {
      "cell_type": "markdown",
      "metadata": {
        "id": "jDhhatzsU5L2",
        "colab_type": "text"
      },
      "source": [
        "# Model"
      ]
    },
    {
      "cell_type": "code",
      "metadata": {
        "id": "4PnedFoqmhIZ",
        "colab_type": "code",
        "colab": {}
      },
      "source": [
        "def USE(x):\n",
        "    return embed(tf.squeeze(tf.cast(x,tf.string)),signature=\"default\",as_dict=True)[\"default\"]"
      ],
      "execution_count": 0,
      "outputs": []
    },
    {
      "cell_type": "code",
      "metadata": {
        "id": "OX5xrpQXT6AK",
        "colab_type": "code",
        "colab": {}
      },
      "source": [
        "def USE_lite(x):\n",
        "    return embed_lite(tf.squeeze(tf.cast(x,tf.string)),signature=\"default\",as_dict=True)[\"default\"]"
      ],
      "execution_count": 0,
      "outputs": []
    },
    {
      "cell_type": "code",
      "metadata": {
        "id": "eocB1GsObcEF",
        "colab_type": "code",
        "colab": {}
      },
      "source": [
        "def add(x):\n",
        "    return tf.reduce_sum(x,keepdims=True,axis=0)"
      ],
      "execution_count": 0,
      "outputs": []
    },
    {
      "cell_type": "code",
      "metadata": {
        "id": "DRq1yCuahses",
        "colab_type": "code",
        "colab": {}
      },
      "source": [
        "def reshape(x):\n",
        "    return tf.reshape(x,(512,1))"
      ],
      "execution_count": 0,
      "outputs": []
    },
    {
      "cell_type": "code",
      "metadata": {
        "id": "mQAKwgRtVgAP",
        "colab_type": "code",
        "colab": {}
      },
      "source": [
        "def cosine_similarity(x):\n",
        "    z = x[2]\n",
        "    y = x[1]\n",
        "    x = x[0]\n",
        "    return x/keras.backend.dot(keras.backend.sqrt(y),keras.backend.sqrt(z))"
      ],
      "execution_count": 0,
      "outputs": []
    },
    {
      "cell_type": "code",
      "metadata": {
        "id": "faRPArJKm1A7",
        "colab_type": "code",
        "colab": {}
      },
      "source": [
        "# inpt = keras.layers.Input((1,),dtype=tf.string)\n",
        "# embedding = keras.layers.Lambda(USE,output_shape=(512,))\n",
        "# outpt = embedding(inpt)\n",
        "# outpt0 = keras.layers.Lambda(reshape)(outpt[0])\n",
        "# outpt1 = keras.layers.Lambda(reshape)(outpt[1])\n",
        "# dot01 = keras.layers.Multiply()([outpt0,outpt1])\n",
        "# dot01 = keras.layers.Lambda(add)(dot01)\n",
        "# dot00 = keras.layers.Multiply()([outpt0,outpt0])\n",
        "# dot00 = keras.layers.Lambda(add)(dot00)\n",
        "# dot11 = keras.layers.Multiply()([outpt1,outpt1])\n",
        "# dot11 = keras.layers.Lambda(add)(dot11)\n",
        "# similarity = keras.layers.Lambda(cosine_similarity)([dot01,dot00,dot11])\n",
        "# model = keras.models.Model(inpt,similarity)"
      ],
      "execution_count": 0,
      "outputs": []
    },
    {
      "cell_type": "code",
      "metadata": {
        "id": "ykzTJrg2imxV",
        "colab_type": "code",
        "colab": {}
      },
      "source": [
        "inpt = keras.layers.Input((1,),dtype=tf.string)\n",
        "embedding = keras.layers.Lambda(USE,output_shape=(512,))\n",
        "outpt = embedding(inpt)\n",
        "model = keras.models.Model(inpt,outpt)"
      ],
      "execution_count": 0,
      "outputs": []
    },
    {
      "cell_type": "code",
      "metadata": {
        "id": "8hSfIgyjUJy1",
        "colab_type": "code",
        "colab": {}
      },
      "source": [
        "# inpt = keras.layers.Input((1,),dtype=tf.string)\n",
        "# embedding = keras.layers.Lambda(USE_lite,output_shape=(512,))\n",
        "# outpt = embedding(inpt)\n",
        "# model_lite = keras.models.Model(inpt1,outpt)"
      ],
      "execution_count": 0,
      "outputs": []
    },
    {
      "cell_type": "code",
      "metadata": {
        "id": "PMJSXhTQo3Vz",
        "colab_type": "code",
        "colab": {}
      },
      "source": [
        "model.summary()"
      ],
      "execution_count": 0,
      "outputs": []
    },
    {
      "cell_type": "code",
      "metadata": {
        "id": "2hfLi0-_m9NO",
        "colab_type": "code",
        "colab": {}
      },
      "source": [
        "# model.compile(optimizer='adam',loss='MSE',metrics=['accuracy'])"
      ],
      "execution_count": 0,
      "outputs": []
    },
    {
      "cell_type": "code",
      "metadata": {
        "id": "OIGhF98xnCcO",
        "colab_type": "code",
        "colab": {}
      },
      "source": [
        "keras.utils.plot_model(model,'USEmodel.png')"
      ],
      "execution_count": 0,
      "outputs": []
    },
    {
      "cell_type": "markdown",
      "metadata": {
        "id": "XrffV_kWkDAu",
        "colab_type": "text"
      },
      "source": [
        "# Inference"
      ]
    },
    {
      "cell_type": "code",
      "metadata": {
        "id": "Aq4X2i9OjhHE",
        "colab_type": "code",
        "colab": {}
      },
      "source": [
        "def mod(a):\n",
        "    return np.sqrt(np.dot(a,a))"
      ],
      "execution_count": 0,
      "outputs": []
    },
    {
      "cell_type": "code",
      "metadata": {
        "id": "hyJghSOTTVOP",
        "colab_type": "code",
        "colab": {}
      },
      "source": [
        "def similarity(pred,a,b):\n",
        "    A = pred[a]\n",
        "    B = pred[b]\n",
        "    AB = np.dot(A,B)\n",
        "    A_mod = mod(A)\n",
        "    B_mod = mod(B)\n",
        "    return AB/(A_mod*B_mod)"
      ],
      "execution_count": 0,
      "outputs": []
    },
    {
      "cell_type": "markdown",
      "metadata": {
        "id": "NHfOs77CqfZY",
        "colab_type": "text"
      },
      "source": [
        "## dummy"
      ]
    },
    {
      "cell_type": "code",
      "metadata": {
        "id": "lmUVIRNFB1yM",
        "colab_type": "code",
        "colab": {}
      },
      "source": [
        "sen = np.array(['hi there','hello','my phone is not working','what is happening?',\"I don't know what's going on\",'Time flies like an arrow','Fruit flies like a banana'])"
      ],
      "execution_count": 0,
      "outputs": []
    },
    {
      "cell_type": "code",
      "metadata": {
        "id": "7QM93azJJLqd",
        "colab_type": "code",
        "colab": {}
      },
      "source": [
        "with tf.Session() as sess:\n",
        "    keras.backend.set_session(sess)\n",
        "    sess.run(tf.global_variables_initializer())\n",
        "    sess.run(tf.tables_initializer())\n",
        "    pred = model.predict(sen)"
      ],
      "execution_count": 0,
      "outputs": []
    },
    {
      "cell_type": "code",
      "metadata": {
        "id": "JMOuN8EptOjr",
        "colab_type": "code",
        "colab": {}
      },
      "source": [
        "l = len(pred)\n",
        "sim = [[similarity(pred,i,j) for j in range(l)] for i in range(l)]\n",
        "for i in range(l):\n",
        "    print(['%.2f'%sim[i][j] for j in range(len(sim[i]))])"
      ],
      "execution_count": 0,
      "outputs": []
    },
    {
      "cell_type": "markdown",
      "metadata": {
        "id": "7kShA-bjqiXY",
        "colab_type": "text"
      },
      "source": [
        "## Quora Q pairs"
      ]
    },
    {
      "cell_type": "code",
      "metadata": {
        "id": "GFyE50k3kWmw",
        "colab_type": "code",
        "colab": {}
      },
      "source": [
        "df = pd.read_csv('train.csv',encoding='utf-8')\n",
        "que = df.iloc[:3*len(df)//4,-3:].values.astype('U')\n",
        "que = np.array(sorted(que,key=lambda a_entry: a_entry[-1]))\n",
        "y = [int(que[i,-1]) for i in range(len(que))]\n",
        "que = que[:,:-1].flatten()"
      ],
      "execution_count": 0,
      "outputs": []
    },
    {
      "cell_type": "code",
      "metadata": {
        "id": "la6XlB1fqU3W",
        "colab_type": "code",
        "colab": {}
      },
      "source": [
        "t0 = time()\n",
        "with tf.Session() as sess1:\n",
        "    keras.backend.set_session(sess1)\n",
        "    sess1.run(tf.global_variables_initializer())\n",
        "    sess1.run(tf.tables_initializer())\n",
        "    pred = model.predict(que)\n",
        "t1 = time()\n",
        "print('Time Elapsed: ',t1-t0,'s')"
      ],
      "execution_count": 0,
      "outputs": []
    },
    {
      "cell_type": "code",
      "metadata": {
        "id": "CK7Y2-kPqqq5",
        "colab_type": "code",
        "colab": {}
      },
      "source": [
        "sim = []\n",
        "for i in range(len(que)//2):\n",
        "    sim.append(similarity(pred,2*i,2*i+1))\n",
        "sim = np.array(sim)"
      ],
      "execution_count": 0,
      "outputs": []
    },
    {
      "cell_type": "code",
      "metadata": {
        "id": "Y_ycyQUmrHim",
        "colab_type": "code",
        "colab": {}
      },
      "source": [
        "plt.figure()\n",
        "plt.plot(sim)\n",
        "plt.plot(y)\n",
        "plt.show()"
      ],
      "execution_count": 0,
      "outputs": []
    },
    {
      "cell_type": "code",
      "metadata": {
        "id": "4XKFxoSjet89",
        "colab_type": "code",
        "colab": {}
      },
      "source": [
        "threshold = [0.25,0.4,0.5,0.6,0.65,0.7,0.75,0.8,0.85,0.9,0.925,0.95,0.975]\n",
        "acc = []\n",
        "precision_0 = []\n",
        "precision_1 = []\n",
        "recall_0 = []\n",
        "recall_1 = []\n",
        "for thresh in threshold:\n",
        "    sim_t = [1 if sim[i]>thresh else 0 for i in range(len(sim))]\n",
        "    cm = confusion_matrix(y,sim_t)\n",
        "    acc.append((cm[0][0]+cm[1][1])/(len(que)//2))\n",
        "    precision_0.append(cm[0][0]/(cm[0][0]+cm[0][1]))\n",
        "    precision_1.append(cm[1][1]/(cm[1][0]+cm[1][1]))\n",
        "    recall_0.append(cm[0][0]/(cm[0][0]+cm[1][0]))\n",
        "    recall_1.append(cm[1][1]/(cm[1][1]+cm[0][1]))"
      ],
      "execution_count": 0,
      "outputs": []
    },
    {
      "cell_type": "code",
      "metadata": {
        "id": "eOLRjKN9n8Yn",
        "colab_type": "code",
        "colab": {}
      },
      "source": [
        "plt.figure()\n",
        "plt.title('Acc')\n",
        "plt.plot(threshold,acc)\n",
        "plt.grid()\n",
        "plt.figure()\n",
        "plt.title('Precision')\n",
        "plt.plot(threshold,precision_0)\n",
        "plt.plot(threshold,precision_1)\n",
        "plt.legend(['prec_0','prec_1'])\n",
        "plt.grid()\n",
        "plt.figure()\n",
        "plt.title('Recall')\n",
        "plt.plot(threshold,recall_0)\n",
        "plt.plot(threshold,recall_1)\n",
        "plt.legend(['rec_0','rec_1'])\n",
        "plt.grid()\n",
        "plt.show()"
      ],
      "execution_count": 0,
      "outputs": []
    },
    {
      "cell_type": "code",
      "metadata": {
        "id": "AX-Sx24FocXz",
        "colab_type": "code",
        "colab": {}
      },
      "source": [
        "np.max(acc)"
      ],
      "execution_count": 0,
      "outputs": []
    },
    {
      "cell_type": "code",
      "metadata": {
        "id": "BuAneOm92Guw",
        "colab_type": "code",
        "colab": {}
      },
      "source": [
        "sim = np.array(sim,dtype='float64')"
      ],
      "execution_count": 0,
      "outputs": []
    },
    {
      "cell_type": "code",
      "metadata": {
        "id": "9pe0z0yxqe0R",
        "colab_type": "code",
        "colab": {}
      },
      "source": [
        "score = log_loss(y,np.abs(sim))\n",
        "print(score)"
      ],
      "execution_count": 0,
      "outputs": []
    },
    {
      "cell_type": "code",
      "metadata": {
        "id": "If-7UhykuYKe",
        "colab_type": "code",
        "colab": {}
      },
      "source": [
        "test = pd.read_csv('test.csv',encoding='utf-8')"
      ],
      "execution_count": 0,
      "outputs": []
    },
    {
      "cell_type": "code",
      "metadata": {
        "id": "S3-GgrRjuz15",
        "colab_type": "code",
        "colab": {}
      },
      "source": [
        "len(test)"
      ],
      "execution_count": 0,
      "outputs": []
    },
    {
      "cell_type": "code",
      "metadata": {
        "id": "o7n_-Vs7u5-O",
        "colab_type": "code",
        "colab": {}
      },
      "source": [
        "len(que)"
      ],
      "execution_count": 0,
      "outputs": []
    },
    {
      "cell_type": "code",
      "metadata": {
        "id": "tunnoDRWu8d1",
        "colab_type": "code",
        "colab": {}
      },
      "source": [
        ""
      ],
      "execution_count": 0,
      "outputs": []
    }
  ]
}