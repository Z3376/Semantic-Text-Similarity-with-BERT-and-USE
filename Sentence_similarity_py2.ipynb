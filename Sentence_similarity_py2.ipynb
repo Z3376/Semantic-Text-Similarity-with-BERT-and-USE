{
  "nbformat": 4,
  "nbformat_minor": 0,
  "metadata": {
    "colab": {
      "name": "Sentence_similarity_py2.ipynb",
      "version": "0.3.2",
      "provenance": [],
      "include_colab_link": true
    },
    "kernelspec": {
      "name": "python2",
      "display_name": "Python 2"
    },
    "accelerator": "GPU"
  },
  "cells": [
    {
      "cell_type": "markdown",
      "metadata": {
        "id": "view-in-github",
        "colab_type": "text"
      },
      "source": [
        "<a href=\"https://colab.research.google.com/github/Z3376/Sentence-Similarity-with-BERT/blob/master/Sentence_similarity_py2.ipynb\" target=\"_parent\"><img src=\"https://colab.research.google.com/assets/colab-badge.svg\" alt=\"Open In Colab\"/></a>"
      ]
    },
    {
      "cell_type": "code",
      "metadata": {
        "id": "rKd_zygQLd-R",
        "colab_type": "code",
        "colab": {}
      },
      "source": [
        "from google.colab import drive\n",
        "drive.mount('./gdrive')"
      ],
      "execution_count": 0,
      "outputs": []
    },
    {
      "cell_type": "code",
      "metadata": {
        "id": "Y-bKfEiNL0Zr",
        "colab_type": "code",
        "colab": {
          "base_uri": "https://localhost:8080/",
          "height": 190
        },
        "outputId": "0474ed4d-f64e-4faf-e0a8-a10046711bcb"
      },
      "source": [
        "!pip install pdfminer"
      ],
      "execution_count": 2,
      "outputs": [
        {
          "output_type": "stream",
          "text": [
            "Collecting pdfminer\n",
            "\u001b[?25l  Downloading https://files.pythonhosted.org/packages/57/4f/e1df0437858188d2d36466a7bb89aa024d252bd0b7e3ba90cbc567c6c0b8/pdfminer-20140328.tar.gz (4.1MB)\n",
            "\u001b[K     |████████████████████████████████| 4.1MB 6.8MB/s \n",
            "\u001b[?25hBuilding wheels for collected packages: pdfminer\n",
            "  Building wheel for pdfminer (setup.py) ... \u001b[?25l\u001b[?25hdone\n",
            "  Stored in directory: /root/.cache/pip/wheels/1b/af/91/b925461baf990ee92513dd451237a7570fca3e7f8dd5439e5b\n",
            "Successfully built pdfminer\n",
            "Installing collected packages: pdfminer\n",
            "Successfully installed pdfminer-20140328\n"
          ],
          "name": "stdout"
        }
      ]
    },
    {
      "cell_type": "code",
      "metadata": {
        "id": "OG4YmLRgL2MT",
        "colab_type": "code",
        "colab": {
          "base_uri": "https://localhost:8080/",
          "height": 173
        },
        "outputId": "8f6ede4f-4090-47e6-cb6b-e5376cf8a936"
      },
      "source": [
        "!pip install PyPDF"
      ],
      "execution_count": 3,
      "outputs": [
        {
          "output_type": "stream",
          "text": [
            "Collecting PyPDF\n",
            "  Using cached https://files.pythonhosted.org/packages/bd/22/e1df75dffb7679344bcf986abd473d7c0e22ba976f2caef31551e394a3a2/pyPdf-1.13.tar.gz\n",
            "Building wheels for collected packages: PyPDF\n",
            "  Building wheel for PyPDF (setup.py) ... \u001b[?25l\u001b[?25hdone\n",
            "  Stored in directory: /root/.cache/pip/wheels/e9/be/bd/9953d15f2e762c0592d9c3e2894ac717570aaff7f088654dba\n",
            "Successfully built PyPDF\n",
            "Installing collected packages: PyPDF\n",
            "Successfully installed PyPDF-1.13\n"
          ],
          "name": "stdout"
        }
      ]
    },
    {
      "cell_type": "code",
      "metadata": {
        "id": "ensW0tldXiKs",
        "colab_type": "code",
        "colab": {
          "base_uri": "https://localhost:8080/",
          "height": 785
        },
        "outputId": "3cc2d6f5-f1bc-4e42-cb0f-f679379a4da2"
      },
      "source": [
        "!pip install keras_bert"
      ],
      "execution_count": 83,
      "outputs": [
        {
          "output_type": "stream",
          "text": [
            "Collecting keras_bert\n",
            "  Downloading https://files.pythonhosted.org/packages/18/40/66d53b4d64fb5d6dbbd3c107bb8e22df6690dca716293b842220503597a0/keras-bert-0.69.0.tar.gz\n",
            "Requirement already satisfied: numpy in /usr/local/lib/python2.7/dist-packages (from keras_bert) (1.16.4)\n",
            "Requirement already satisfied: Keras in /usr/local/lib/python2.7/dist-packages (from keras_bert) (2.2.4)\n",
            "Collecting keras-transformer>=0.29.0 (from keras_bert)\n",
            "  Downloading https://files.pythonhosted.org/packages/6b/9c/9dda9466a97cfd21300736555a257429a162d774cc4470a1b880796eaeac/keras-transformer-0.29.0.tar.gz\n",
            "Requirement already satisfied: keras-applications>=1.0.6 in /usr/local/lib/python2.7/dist-packages (from Keras->keras_bert) (1.0.8)\n",
            "Requirement already satisfied: scipy>=0.14 in /usr/local/lib/python2.7/dist-packages (from Keras->keras_bert) (1.2.2)\n",
            "Requirement already satisfied: keras-preprocessing>=1.0.5 in /usr/local/lib/python2.7/dist-packages (from Keras->keras_bert) (1.1.0)\n",
            "Requirement already satisfied: h5py in /usr/local/lib/python2.7/dist-packages (from Keras->keras_bert) (2.8.0)\n",
            "Requirement already satisfied: pyyaml in /usr/local/lib/python2.7/dist-packages (from Keras->keras_bert) (3.13)\n",
            "Requirement already satisfied: six>=1.9.0 in /usr/local/lib/python2.7/dist-packages (from Keras->keras_bert) (1.12.0)\n",
            "Collecting keras-pos-embd>=0.10.0 (from keras-transformer>=0.29.0->keras_bert)\n",
            "  Downloading https://files.pythonhosted.org/packages/09/70/b63ed8fc660da2bb6ae29b9895401c628da5740c048c190b5d7107cadd02/keras-pos-embd-0.11.0.tar.gz\n",
            "Collecting keras-multi-head>=0.20.0 (from keras-transformer>=0.29.0->keras_bert)\n",
            "  Downloading https://files.pythonhosted.org/packages/3b/0f/f1a66974db9c328ba675c1df63f8a68c5c0f3e181f1e74db4f3b1a72a6df/keras-multi-head-0.20.0.tar.gz\n",
            "Collecting keras-layer-normalization>=0.12.0 (from keras-transformer>=0.29.0->keras_bert)\n",
            "  Downloading https://files.pythonhosted.org/packages/95/76/42878fe46bff8458d8aa1da50bfdf705d632d33dbb7b60db52a06faf2dad/keras-layer-normalization-0.12.0.tar.gz\n",
            "Collecting keras-position-wise-feed-forward>=0.5.0 (from keras-transformer>=0.29.0->keras_bert)\n",
            "  Downloading https://files.pythonhosted.org/packages/e3/59/f0faa1037c033059e7e9e7758e6c23b4d1c0772cd48de14c4b6fd4033ad5/keras-position-wise-feed-forward-0.6.0.tar.gz\n",
            "Collecting keras-embed-sim>=0.7.0 (from keras-transformer>=0.29.0->keras_bert)\n",
            "  Downloading https://files.pythonhosted.org/packages/bc/20/735fd53f6896e2af63af47e212601c1b8a7a80d00b6126c388c9d1233892/keras-embed-sim-0.7.0.tar.gz\n",
            "Collecting keras-self-attention==0.41.0 (from keras-multi-head>=0.20.0->keras-transformer>=0.29.0->keras_bert)\n",
            "  Downloading https://files.pythonhosted.org/packages/1b/1c/01599219bef7266fa43b3316e4f55bcb487734d3bafdc60ffd564f3cfe29/keras-self-attention-0.41.0.tar.gz\n",
            "Building wheels for collected packages: keras-bert, keras-transformer, keras-pos-embd, keras-multi-head, keras-layer-normalization, keras-position-wise-feed-forward, keras-embed-sim, keras-self-attention\n",
            "  Building wheel for keras-bert (setup.py) ... \u001b[?25l\u001b[?25hdone\n",
            "  Stored in directory: /root/.cache/pip/wheels/6c/63/15/9755f6e729fc47e95b56cea2273a8c49435fce7ecdfed4d1e5\n",
            "  Building wheel for keras-transformer (setup.py) ... \u001b[?25l\u001b[?25hdone\n",
            "  Stored in directory: /root/.cache/pip/wheels/d5/77/37/8fcad8efc82751342b5e19134629444394a316cee7e0955f4d\n",
            "  Building wheel for keras-pos-embd (setup.py) ... \u001b[?25l\u001b[?25hdone\n",
            "  Stored in directory: /root/.cache/pip/wheels/5b/a1/a0/ce6b1d49ba1a9a76f592e70cf297b05c96bc9f418146761032\n",
            "  Building wheel for keras-multi-head (setup.py) ... \u001b[?25l\u001b[?25hdone\n",
            "  Stored in directory: /root/.cache/pip/wheels/95/49/02/4eda210bc4c37ff1d45311665bceb790881dbea92b27b025a5\n",
            "  Building wheel for keras-layer-normalization (setup.py) ... \u001b[?25l\u001b[?25hdone\n",
            "  Stored in directory: /root/.cache/pip/wheels/c3/9b/9e/f4072915f660e90bb3638332276f4de80476f3afcb5d010d6f\n",
            "  Building wheel for keras-position-wise-feed-forward (setup.py) ... \u001b[?25l\u001b[?25hdone\n",
            "  Stored in directory: /root/.cache/pip/wheels/39/e2/e2/3514fef126a00574b13bc0b9e23891800158df3a3c19c96e3b\n",
            "  Building wheel for keras-embed-sim (setup.py) ... \u001b[?25l\u001b[?25hdone\n",
            "  Stored in directory: /root/.cache/pip/wheels/d1/bc/b1/b0c45cee4ca2e6c86586b0218ffafe7f0703c6d07fdf049866\n",
            "  Building wheel for keras-self-attention (setup.py) ... \u001b[?25l\u001b[?25hdone\n",
            "  Stored in directory: /root/.cache/pip/wheels/cc/dc/17/84258b27a04cd38ac91998abe148203720ca696186635db694\n",
            "Successfully built keras-bert keras-transformer keras-pos-embd keras-multi-head keras-layer-normalization keras-position-wise-feed-forward keras-embed-sim keras-self-attention\n",
            "Installing collected packages: keras-pos-embd, keras-self-attention, keras-multi-head, keras-layer-normalization, keras-position-wise-feed-forward, keras-embed-sim, keras-transformer, keras-bert\n",
            "Successfully installed keras-bert-0.69.0 keras-embed-sim-0.7.0 keras-layer-normalization-0.12.0 keras-multi-head-0.20.0 keras-pos-embd-0.11.0 keras-position-wise-feed-forward-0.6.0 keras-self-attention-0.41.0 keras-transformer-0.29.0\n"
          ],
          "name": "stdout"
        }
      ]
    },
    {
      "cell_type": "code",
      "metadata": {
        "id": "BnX9yCrnMqQG",
        "colab_type": "code",
        "colab": {}
      },
      "source": [
        "# import pyPdf as pr\n",
        "import numpy as np\n",
        "import re"
      ],
      "execution_count": 0,
      "outputs": []
    },
    {
      "cell_type": "code",
      "metadata": {
        "id": "eAclti5QQGMW",
        "colab_type": "code",
        "colab": {}
      },
      "source": [
        "from cStringIO import StringIO\n",
        "from pdfminer.pdfinterp import PDFResourceManager, PDFPageInterpreter\n",
        "from pdfminer.converter import TextConverter\n",
        "from pdfminer.layout import LAParams\n",
        "from pdfminer.pdfpage import PDFPage\n",
        "import os\n",
        "import sys, getopt"
      ],
      "execution_count": 0,
      "outputs": []
    },
    {
      "cell_type": "code",
      "metadata": {
        "id": "Ci1EMGP_Xg9k",
        "colab_type": "code",
        "colab": {}
      },
      "source": [
        "import keras_bert\n",
        "import keras\n",
        "import codecs"
      ],
      "execution_count": 0,
      "outputs": []
    },
    {
      "cell_type": "markdown",
      "metadata": {
        "id": "cn2CIPhELvDM",
        "colab_type": "text"
      },
      "source": [
        "# Data"
      ]
    },
    {
      "cell_type": "code",
      "metadata": {
        "id": "pkZP1_inLudN",
        "colab_type": "code",
        "colab": {}
      },
      "source": [
        "file1 = './gdrive/My Drive/Radicali_task/Personal Data Protection Act 2012.pdf'\n",
        "file2 = './gdrive/My Drive/Radicali_task/Personal Data Protection Regulations 2014.pdf'"
      ],
      "execution_count": 0,
      "outputs": []
    },
    {
      "cell_type": "code",
      "metadata": {
        "id": "EM4WuvNtMs1R",
        "colab_type": "code",
        "colab": {}
      },
      "source": [
        "# def pdf_text(file,page_num):\n",
        "#     pdf_file = open(file,'rb')\n",
        "#     pdf_reader = pr.PdfFileReader(pdf_file)\n",
        "#     page = pdf_reader.getPage(page_num)\n",
        "#     text = page.extractText().strip().split('.')\n",
        "#     return text"
      ],
      "execution_count": 0,
      "outputs": []
    },
    {
      "cell_type": "code",
      "metadata": {
        "id": "CUakt0U8M32G",
        "colab_type": "code",
        "colab": {}
      },
      "source": [
        "def convert(fname, pages=None):\n",
        "    if not pages:\n",
        "        pagenums = set()\n",
        "    else:\n",
        "        pagenums = set(pages)\n",
        "\n",
        "    output = StringIO()\n",
        "    manager = PDFResourceManager()\n",
        "    converter = TextConverter(manager, output, laparams=LAParams())\n",
        "    interpreter = PDFPageInterpreter(manager, converter)\n",
        "\n",
        "    infile = file(fname, 'rb')\n",
        "    for page in PDFPage.get_pages(infile, pagenums):\n",
        "        interpreter.process_page(page)\n",
        "    infile.close()\n",
        "    converter.close()\n",
        "    text = output.getvalue()\n",
        "    output.close\n",
        "    return text "
      ],
      "execution_count": 0,
      "outputs": []
    },
    {
      "cell_type": "code",
      "metadata": {
        "id": "NoeJBSbhMw9c",
        "colab_type": "code",
        "colab": {}
      },
      "source": [
        "text1 = convert(file1).strip().split('\\n')\n",
        "text2 = convert(file2).strip().split('\\n')"
      ],
      "execution_count": 0,
      "outputs": []
    },
    {
      "cell_type": "code",
      "metadata": {
        "id": "7-g1pLrMTFnh",
        "colab_type": "code",
        "colab": {}
      },
      "source": [
        "text1_ = [unicode(' '.join(re.sub('[^a-zA-Z0-9]',' ',text1[i]).split()).lower()) for i in range(len(text1))]\n",
        "text2_ = [unicode(' '.join(re.sub('[^a-zA-Z0-9]',' ',text2[i]).split()).lower()) for i in range(len(text2))]"
      ],
      "execution_count": 0,
      "outputs": []
    },
    {
      "cell_type": "markdown",
      "metadata": {
        "id": "HJlbhwJlbcrH",
        "colab_type": "text"
      },
      "source": [
        "# Embedding"
      ]
    },
    {
      "cell_type": "code",
      "metadata": {
        "id": "fjp9Z8O9bfrv",
        "colab_type": "code",
        "colab": {}
      },
      "source": [
        "pretrained_path = './gdrive/My Drive/uncased_L-12_H-768_A-12'\n",
        "config_path = os.path.join(pretrained_path,'bert_config.json')\n",
        "ckpt_path = os.path.join(pretrained_path,'bert_model.ckpt')\n",
        "vocab_path = os.path.join(pretrained_path,'vocab.txt')"
      ],
      "execution_count": 0,
      "outputs": []
    },
    {
      "cell_type": "code",
      "metadata": {
        "id": "e9XZCL1FbhOf",
        "colab_type": "code",
        "colab": {}
      },
      "source": [
        "token_dict = {}\n",
        "with codecs.open(vocab_path, 'r', 'utf8') as reader:\n",
        "    for line in reader:\n",
        "        token = line.strip()\n",
        "        token_dict[token] = len(token_dict)\n",
        "tokenizer = keras_bert.Tokenizer(token_dict)"
      ],
      "execution_count": 0,
      "outputs": []
    },
    {
      "cell_type": "code",
      "metadata": {
        "id": "GYvauGE4bhLB",
        "colab_type": "code",
        "colab": {}
      },
      "source": [
        "def embed(sen1,corpus,tokenizer,max_len=128):\n",
        "    ind_array = []\n",
        "    seg_array = []\n",
        "    for i in range(len(corpus)):\n",
        "        ind,seg = tokenizer.encode(sen1,corpus[i],max_len=max_len)\n",
        "        ind_array.append(ind)\n",
        "        seg_array.append(seg)\n",
        "    ind_array = np.array(ind_array)\n",
        "    seg_array = np.array(seg_array)\n",
        "    return ind_array,seg_array"
      ],
      "execution_count": 0,
      "outputs": []
    },
    {
      "cell_type": "markdown",
      "metadata": {
        "id": "iS1Vmau2bT9h",
        "colab_type": "text"
      },
      "source": [
        "# Model"
      ]
    },
    {
      "cell_type": "code",
      "metadata": {
        "id": "KThMDwP4V7oy",
        "colab_type": "code",
        "colab": {}
      },
      "source": [
        "bert = keras_bert.load_trained_model_from_checkpoint(config_path,ckpt_path,training=True,trainable=True,seq_len=128)"
      ],
      "execution_count": 0,
      "outputs": []
    },
    {
      "cell_type": "code",
      "metadata": {
        "id": "xnNUFmXBbZOo",
        "colab_type": "code",
        "colab": {}
      },
      "source": [
        "ind,seg = bert.input[:2]\n",
        "outpt = bert.get_layer('NSP').output\n",
        "model = keras.models.Model([ind,seg],outpt)"
      ],
      "execution_count": 0,
      "outputs": []
    },
    {
      "cell_type": "code",
      "metadata": {
        "id": "IrhUuBoKkukT",
        "colab_type": "code",
        "colab": {}
      },
      "source": [
        "# model.summary()"
      ],
      "execution_count": 0,
      "outputs": []
    },
    {
      "cell_type": "markdown",
      "metadata": {
        "id": "GJabc-TXoC3K",
        "colab_type": "text"
      },
      "source": [
        "# Inference"
      ]
    },
    {
      "cell_type": "code",
      "metadata": {
        "id": "t0_p2rKFuJnb",
        "colab_type": "code",
        "colab": {}
      },
      "source": [
        "test = 291     "
      ],
      "execution_count": 0,
      "outputs": []
    },
    {
      "cell_type": "code",
      "metadata": {
        "id": "Oc4GH0B9kYT2",
        "colab_type": "code",
        "colab": {}
      },
      "source": [
        "ind,seg = embed(text1_[test],text2_,tokenizer)"
      ],
      "execution_count": 0,
      "outputs": []
    },
    {
      "cell_type": "code",
      "metadata": {
        "id": "1epqcEe3dRKF",
        "colab_type": "code",
        "colab": {}
      },
      "source": [
        "pred = model.predict([ind,seg])"
      ],
      "execution_count": 0,
      "outputs": []
    },
    {
      "cell_type": "code",
      "metadata": {
        "id": "WFYHhlMZfUhN",
        "colab_type": "code",
        "colab": {}
      },
      "source": [
        "result = np.argmax(pred[:,0])"
      ],
      "execution_count": 0,
      "outputs": []
    },
    {
      "cell_type": "code",
      "metadata": {
        "id": "8zWDmW94m_CC",
        "colab_type": "code",
        "colab": {
          "base_uri": "https://localhost:8080/",
          "height": 34
        },
        "outputId": "9b86a321-ab6f-4d11-d6b2-fe2dedb955cf"
      },
      "source": [
        "text1_[test]"
      ],
      "execution_count": 214,
      "outputs": [
        {
          "output_type": "execute_result",
          "data": {
            "text/plain": [
              "u'organisations and to establish do not call register and to provide'"
            ]
          },
          "metadata": {
            "tags": []
          },
          "execution_count": 214
        }
      ]
    },
    {
      "cell_type": "code",
      "metadata": {
        "id": "NbTiSPrznzrE",
        "colab_type": "code",
        "colab": {
          "base_uri": "https://localhost:8080/",
          "height": 34
        },
        "outputId": "c356a991-648a-4bc6-c900-2c64836f3162"
      },
      "source": [
        "text2_[result]"
      ],
      "execution_count": 215,
      "outputs": [
        {
          "output_type": "execute_result",
          "data": {
            "text/plain": [
              "u'organisation to respond to the applicant s request'"
            ]
          },
          "metadata": {
            "tags": []
          },
          "execution_count": 215
        }
      ]
    },
    {
      "cell_type": "code",
      "metadata": {
        "id": "Ty4fKB1an8IH",
        "colab_type": "code",
        "colab": {}
      },
      "source": [
        ""
      ],
      "execution_count": 0,
      "outputs": []
    }
  ]
}